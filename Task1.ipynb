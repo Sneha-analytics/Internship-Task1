{
 "cells": [
  {
   "cell_type": "code",
   "execution_count": 29,
   "id": "fa1eb8c9-6cf2-4831-85f6-af3374084d13",
   "metadata": {},
   "outputs": [
    {
     "data": {
      "text/plain": [
       "Index(['patient_id', 'appointment_id', 'gender', 'scheduled_day',\n",
       "       'appointment_day', 'age', 'neighbourhood', 'scholarship',\n",
       "       'hypertension', 'diabetes', 'alcoholism', 'handicap', 'sms_received',\n",
       "       'no_show'],\n",
       "      dtype='object')"
      ]
     },
     "execution_count": 29,
     "metadata": {},
     "output_type": "execute_result"
    }
   ],
   "source": [
    "import pandas as pd\n",
    "\n",
    "# Load the dataset\n",
    "df= pd.read_csv(\"C:/Users/HP/Documents/DATA SCIENCE/Data analyst internship/medical_appointment_no_shows.csv\")\n",
    "\n",
    "# Rename columns\n",
    "df.columns = [col.strip().lower().replace(\" \", \"_\").replace(\"-\", \"_\") for col in df.columns]\n",
    "df.rename(columns={'hipertension': 'hypertension','handcap': 'handicap','no_show': 'no_show'}, inplace=True)\n",
    "df.drop(columns=df.columns[14:], inplace=True)   ## bcz empty columns are there\n",
    "\n",
    "df.columns"
   ]
  },
  {
   "cell_type": "code",
   "execution_count": 42,
   "id": "d6dd501d-d875-4cda-aca0-70a4ede118ac",
   "metadata": {},
   "outputs": [],
   "source": [
    "# Standardize text data\n",
    "#df['gender']= df['gender'].str.upper().str.strip()\n",
    "#df['no_show']= df['no_show'].str.upper().str.strip()\n",
    "df['neighbourhood']= df['neighbourhood'].str.title()"
   ]
  },
  {
   "cell_type": "code",
   "execution_count": 31,
   "id": "f95eef98-7a12-4f98-be24-5136b86f8cf6",
   "metadata": {},
   "outputs": [
    {
     "data": {
      "text/plain": [
       "0         2016-04-29\n",
       "1         2016-04-29\n",
       "2         2016-04-29\n",
       "3         2016-04-29\n",
       "4         2016-04-29\n",
       "             ...    \n",
       "110522    2016-05-03\n",
       "110523    2016-05-03\n",
       "110524    2016-04-27\n",
       "110525    2016-04-27\n",
       "110526    2016-04-27\n",
       "Name: scheduled_day, Length: 110527, dtype: object"
      ]
     },
     "execution_count": 31,
     "metadata": {},
     "output_type": "execute_result"
    }
   ],
   "source": [
    "# Convert date columns\n",
    "df['appointment_day']= pd.to_datetime(df['appointment_day']).dt.date\n",
    "df['scheduled_day']= pd.to_datetime(df['scheduled_day']).dt.date\n"
   ]
  },
  {
   "cell_type": "code",
   "execution_count": 32,
   "id": "63bda2ee-6dce-4218-8560-f6ee8651563c",
   "metadata": {},
   "outputs": [
    {
     "name": "stdout",
     "output_type": "stream",
     "text": [
      "patient_id         0\n",
      "appointment_id     0\n",
      "gender             0\n",
      "scheduled_day      0\n",
      "appointment_day    0\n",
      "age                0\n",
      "neighbourhood      0\n",
      "scholarship        0\n",
      "hypertension       0\n",
      "diabetes           0\n",
      "alcoholism         0\n",
      "handicap           0\n",
      "sms_received       0\n",
      "no_show            0\n",
      "dtype: int64\n"
     ]
    }
   ],
   "source": [
    "## Handle missing values\n",
    "count= df.isnull().sum()\n",
    "print(count)"
   ]
  },
  {
   "cell_type": "code",
   "execution_count": 33,
   "id": "bacc7189-c3ad-4838-8d97-a073d74bb67d",
   "metadata": {},
   "outputs": [],
   "source": [
    "# Drop duplicates\n",
    "df.drop_duplicates(inplace=True)"
   ]
  },
  {
   "cell_type": "code",
   "execution_count": 40,
   "id": "aae29a27-0611-4704-a73b-3431c9eb942f",
   "metadata": {},
   "outputs": [
    {
     "name": "stdout",
     "output_type": "stream",
     "text": [
      "Empty DataFrame\n",
      "Columns: [patient_id, appointment_id, gender, scheduled_day, appointment_day, age, neighbourhood, scholarship, hypertension, diabetes, alcoholism, handicap, sms_received, no_show]\n",
      "Index: []\n"
     ]
    }
   ],
   "source": [
    "import numpy as np\n",
    "\n",
    "# check for outliers\n",
    "df['age']=df['age'].apply(lambda x: np.nan if x<=0 else x)\n",
    "print(df[df['age']<=0])"
   ]
  },
  {
   "cell_type": "code",
   "execution_count": 43,
   "id": "e9064a06-6c3e-4184-a755-fa881a6c9b6c",
   "metadata": {},
   "outputs": [],
   "source": [
    "# Save cleaned data\n",
    "df.to_csv('cleaned_medical_data.csv', index=False)"
   ]
  },
  {
   "cell_type": "code",
   "execution_count": null,
   "id": "f721e411-598c-4608-a67a-2f6c9303c8d8",
   "metadata": {},
   "outputs": [],
   "source": []
  }
 ],
 "metadata": {
  "kernelspec": {
   "display_name": "Python 3 (ipykernel)",
   "language": "python",
   "name": "python3"
  },
  "language_info": {
   "codemirror_mode": {
    "name": "ipython",
    "version": 3
   },
   "file_extension": ".py",
   "mimetype": "text/x-python",
   "name": "python",
   "nbconvert_exporter": "python",
   "pygments_lexer": "ipython3",
   "version": "3.11.7"
  }
 },
 "nbformat": 4,
 "nbformat_minor": 5
}
